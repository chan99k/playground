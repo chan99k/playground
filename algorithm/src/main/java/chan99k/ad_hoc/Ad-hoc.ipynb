{
 "cells": [
  {
   "metadata": {},
   "cell_type": "markdown",
   "source": [
    "# Ad-hoc 알고리즘이란?\n",
    "> ad-hoc 은 라틴어로 \"이것을 위한\" 이라는 뜻으로, 프로그래밍에서는 특정 문제를 위한 특별한 통찰이나 아이디어가 필요한 문제를 의미한다. 일반적인 알고리즘 기법을 직접 사용하기보다는, 문제의 특수한 성질을 관찰하고 수학적 통찰을 통해 해결하는 방식이다.\n",
    "\n",
    "- 일반적인 접근법으로는 해결하기 어려워 보이는 경우\n",
    "- 수학적인 관찰이 핵심인 경우"
   ]
  },
  {
   "metadata": {},
   "cell_type": "code",
   "outputs": [],
   "execution_count": null,
   "source": ""
  }
 ],
 "metadata": {
  "kernelspec": {
   "display_name": "Kotlin",
   "language": "kotlin",
   "name": "kotlin"
  },
  "language_info": {
   "name": "kotlin",
   "version": "2.2.20-Beta2",
   "mimetype": "text/x-kotlin",
   "file_extension": ".kt",
   "pygments_lexer": "kotlin",
   "codemirror_mode": "text/x-kotlin",
   "nbconvert_exporter": ""
  }
 },
 "nbformat": 4,
 "nbformat_minor": 0
}
