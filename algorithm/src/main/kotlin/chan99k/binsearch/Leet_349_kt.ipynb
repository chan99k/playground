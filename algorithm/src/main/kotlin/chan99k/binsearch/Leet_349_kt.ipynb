{
 "cells": [
  {
   "metadata": {},
   "cell_type": "markdown",
   "source": "# LeetCode_349. Intersection of Two Arrays"
  },
  {
   "metadata": {},
   "cell_type": "code",
   "outputs": [],
   "execution_count": null,
   "source": [
    "import java.util.Arrays\n",
    "\n",
    "fun intersection(nums1: IntArray, nums2: IntArray): IntArray {\n",
    "    val result: MutableSet<Int> = HashSet()\n",
    "    Arrays.sort(nums2)\n",
    "    for (n1 in nums1) {\n",
    "        val i2 = Arrays.binarySearch(nums2, n1)\n",
    "        if (i2 >= 0)\n",
    "            result.add(n1)\n",
    "    }\n",
    "    return result.toIntArray()\n",
    "}"
   ]
  },
  {
   "metadata": {
    "collapsed": true
   },
   "cell_type": "code",
   "outputs": [],
   "execution_count": null,
   "source": [
    "fun intersection(a: IntArray, b: IntArray): IntArray {\n",
    "    return a.toSet().intersect(b.toSet()).toIntArray()\n",
    "}"
   ]
  }
 ],
 "metadata": {
  "kernelspec": {
   "display_name": "Kotlin",
   "language": "kotlin",
   "name": "kotlin"
  },
  "language_info": {
   "name": "kotlin",
   "version": "2.2.20-dev-4982",
   "mimetype": "text/x-kotlin",
   "file_extension": ".kt",
   "pygments_lexer": "kotlin",
   "codemirror_mode": "text/x-kotlin",
   "nbconvert_exporter": ""
  }
 },
 "nbformat": 4,
 "nbformat_minor": 0
}
