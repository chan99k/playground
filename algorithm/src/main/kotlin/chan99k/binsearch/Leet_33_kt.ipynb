{
 "cells": [
  {
   "metadata": {},
   "cell_type": "markdown",
   "source": "# LeetCode_33. Search in Rotated Sorted Array\n"
  },
  {
   "cell_type": "code",
   "metadata": {
    "collapsed": true,
    "ExecuteTime": {
     "end_time": "2025-09-27T07:57:51.461116Z",
     "start_time": "2025-09-27T07:57:51.298505Z"
    }
   },
   "source": [
    "fun search(nums: IntArray, target: Int): Int {\n",
    "    var left = 0\n",
    "    var right = nums.size - 1\n",
    "    while (left < right) {\n",
    "        val mid = left + (right - left) / 2\n",
    "        when {\n",
    "            nums[mid] > nums[right] -> left = mid + 1\n",
    "            else -> right = mid\n",
    "        }\n",
    "    }\n",
    "    val pivot = left\n",
    "\n",
    "\n",
    "    left = 0\n",
    "    right = nums.size - 1\n",
    "    while (left <= right) {\n",
    "        val mid = left + (right - left) / 2\n",
    "        val midPivot = (mid + pivot) % nums.size // 중앙의 위치를 피벗의 위치만큼 이동하여 계산\n",
    "\n",
    "        when {\n",
    "            nums[midPivot] < target -> left = mid + 1\n",
    "            nums[midPivot] > target -> right = mid - 1\n",
    "            else -> return midPivot\n",
    "        }\n",
    "    }\n",
    "    return -1\n",
    "}"
   ],
   "outputs": [],
   "execution_count": 1
  }
 ],
 "metadata": {
  "kernelspec": {
   "display_name": "Kotlin",
   "language": "kotlin",
   "name": "kotlin"
  },
  "language_info": {
   "name": "kotlin",
   "version": "1.9.23",
   "mimetype": "text/x-kotlin",
   "file_extension": ".kt",
   "pygments_lexer": "kotlin",
   "codemirror_mode": "text/x-kotlin",
   "nbconvert_exporter": ""
  }
 },
 "nbformat": 4,
 "nbformat_minor": 0
}
