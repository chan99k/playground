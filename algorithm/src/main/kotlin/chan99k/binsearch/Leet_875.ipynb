{
 "cells": [
  {
   "metadata": {},
   "cell_type": "markdown",
   "source": [
    "# LeetCode 875.Koko Eating Bananas\n",
    "\n",
    "- 분모 `h - n + 1`: \"하나의 더미에 할당된 최악의 시간\"\n",
    "- 분자 `total - n`: \"그 하나의 더미의 크기\"에 대한 근사치\n",
    "  - 정확히는 total에서 나머지 n-1개 더미의 크기를 빼야 한다.\n",
    "  - 하지만 어떤 더미가 마지막에 남을지 모르므로, 간단하게 \"나머지 n-1개 더미의 크기가 각각 1이다\"라고 가정하여 n-1 (또는 근사치 n)을 빼는 것"
   ]
  },
  {
   "metadata": {
    "collapsed": true
   },
   "cell_type": "code",
   "outputs": [],
   "execution_count": null,
   "source": [
    "class Solution {\n",
    "    fun minEatingSpeed(piles: IntArray, h: Int): Int {\n",
    "        val n = piles.size\n",
    "        var total: Long = 0\n",
    "        for (pile in piles) {\n",
    "            total += pile\n",
    "        }\n",
    "        var l = ((total - 1L) / h + 1).toInt()\n",
    "        var r = ((total - n) / (h - n + 1) + 1).toInt()\n",
    "\n",
    "        while (l <= r) {\n",
    "            var mid = l + (r - l) / 2\n",
    "            if (mid == 0) {\n",
    "                l = 1\n",
    "                continue\n",
    "            }\n",
    "\n",
    "            if (cond(piles, h, mid)) {\n",
    "                r = mid - 1\n",
    "            } else {\n",
    "                l = mid + 1\n",
    "            }\n",
    "\n",
    "        }\n",
    "        return l\n",
    "    }\n",
    "\n",
    "    private fun cond(piles: IntArray, h: Int, k: Int): Boolean {\n",
    "        var total = 0\n",
    "\n",
    "        for (i in piles.indices) {\n",
    "            total += (piles[i] + k - 1) / k\n",
    "            if (total > h)\n",
    "                return false\n",
    "        }\n",
    "        return total <= h\n",
    "    }\n",
    "}"
   ]
  }
 ],
 "metadata": {
  "kernelspec": {
   "display_name": "Kotlin",
   "language": "kotlin",
   "name": "kotlin"
  },
  "language_info": {
   "name": "kotlin",
   "version": "2.2.20-Beta2",
   "mimetype": "text/x-kotlin",
   "file_extension": ".kt",
   "pygments_lexer": "kotlin",
   "codemirror_mode": "text/x-kotlin",
   "nbconvert_exporter": ""
  }
 },
 "nbformat": 4,
 "nbformat_minor": 0
}
