{
 "cells": [
  {
   "metadata": {},
   "cell_type": "markdown",
   "source": "# BOJ 1114 - 통나무 자르기\n\n## 문제 분석\n\n벌목꾼 백은진이 길이 L인 통나무를 트럭에 맞게 자르려고 한다.\n- K개의 위치에서만 자를 수 있음\n- 최대 C번까지 자를 수 있음\n- **목표: 가장 긴 조각의 길이를 최소화**\n\n## 핵심 아이디어\n\n1. **이분탐색**: 가능한 \"가장 긴 조각의 길이\"를 이분탐색\n2. **그리디 전략**: 조각이 목표 길이를 초과하려 할 때 바로 이전 위치에서 자르기\n3. **뒤에서부터 자르기**: 첫 번째 자르는 위치를 구할 때는 뒤에서부터 자르는 전략 사용\n\n## ASCII 다이어그램\n\n```\n예시: L=9, 자를 수 있는 위치=[4,5], C=1\n\n통나무: |----+----+---|\n위치:   0    4    5   9\n\n목표 길이 5로 자르기:\n|----+----+---|\n0    4    5   9\n\nCase 1: 위치 4에서 자르기\n[0-4] [4-9] → 길이 4, 5 (최대 5)\n\nCase 2: 위치 5에서 자르기  \n[0-5] [5-9] → 길이 5, 4 (최대 5)\n\n뒤에서부터 자르는 전략 선택: 위치 4\n```\n\n## 알고리즘 단계\n\n1. 자를 수 있는 위치들을 정렬\n2. 이분탐색으로 가능한 최대 조각 길이 중 최솟값 찾기\n3. 해당 길이로 뒤에서부터 자르는 전략으로 첫 번째 자르는 위치 구하기"
  },
  {
   "metadata": {},
   "cell_type": "markdown",
   "source": [
    "### 테스트 케이스\n",
    "\n",
    "**입력:**\n",
    "```\n",
    "9 2 1\n",
    "4 5\n",
    "```\n",
    "\n",
    "**출력:**\n",
    "```\n",
    "5 4\n",
    "```\n",
    "\n",
    "### 상세 동작 과정\n",
    "\n",
    "#### 1. 이분탐색 과정\n",
    "\n",
    "```\n",
    "초기 범위: left=1, right=9\n",
    "\n",
    "mid=5: canCut(location=[4,5], targetLen=5, L=9, C=1)\n",
    "│\n",
    "├─ i=0: location[0]=4, curPos=0 → 4-0=4 ≤ 5 (OK)\n",
    "├─ i=1: location[1]=5, curPos=0 → 5-0=5 ≤ 5 (OK)\n",
    "└─ 마지막: L-curPos = 9-0=9 > 5 → cutCount=1 ≤ C=1 (OK)\n",
    "\n",
    "결과: true → answer=5, right=4\n",
    "\n",
    "left > right → 종료, answer=5\n",
    "```\n",
    "\n",
    "#### 2. 첫 번째 자르기 위치 찾기\n",
    "\n",
    "```\n",
    "findFirstCut(location=[4,5], targetLen=5, L=9, C=1)\n",
    "\n",
    "뒤에서부터 탐색:\n",
    "├─ i=1: location[1]=5, curPos=9 → 9-5=4 ≤ 5 (OK)\n",
    "├─ i=0: location[0]=4, curPos=9 → 9-4=5 ≤ 5 (OK)\n",
    "└─ curPos=9 > targetLen=5 → firstCut=location[0]=4\n",
    "\n",
    "결과: 4\n",
    "```\n"
   ]
  },
  {
   "metadata": {
    "collapsed": true,
    "ExecuteTime": {
     "end_time": "2025-09-29T13:35:39.693829Z",
     "start_time": "2025-09-29T13:35:39.007162Z"
    }
   },
   "cell_type": "code",
   "source": "fun main() {\n    // L, K, C 입력 받기 (통나무 길이, 자를 수 있는 위치 개수, 최대 자르기 횟수)\n    val (L, K, C) = readLine()!!.split(\" \").map { it.toInt() }\n    \n    // 자를 수 있는 위치들 입력 받기\n    val location = readLine()!!.split(\" \").map { it.toInt() }.toIntArray()\n    location.sort() // 정렬\n    \n    // 이분탐색 범위: 최소 1, 최대 통나무 전체 길이\n    var left = 1\n    var right = L\n    var answer = right\n    \n    // 가능한 최대 조각 길이 중 최솟값을 찾는 이분탐색\n    while (left <= right) {\n        val mid = left + (right - left) / 2\n        \n        // 길이 mid 이하로 가장 긴 조각을 만들 수 있는지 확인\n        if (canCut(location, mid, L, C)) {\n            answer = mid // 가능한 답 저장\n            right = mid - 1 // 더 작은 길이 시도\n        } else {\n            left = mid + 1 // 더 큰 길이 필요\n        }\n    }\n    \n    // 첫 번째 자르는 위치 구하기\n    val firstCut = findFirstCut(location, answer, L, C)\n    \n    println(\"$answer $firstCut\")\n}\n\n/**\n * 주어진 targetLen으로 가장 긴 조각을 만들 수 있는지 판단\n */\nfun canCut(location: IntArray, targetLen: Int, L: Int, C: Int): Boolean {\n    var curPos = 0 // 현재 위치\n    var cutCount = 0 // 사용한 자르기 횟수\n    \n    // 자를 수 있는 모든 위치를 왼쪽부터 순회\n    var i = 0\n    while (i < location.size) {\n        // 다음 자를 수 있는 위치까지의 거리가 targetLen을 초과하면\n        if (location[i] - curPos > targetLen) {\n            // 첫 번째 위치까지도 targetLen을 초과하면 불가능\n            if (i == 0) return false\n            \n            // 이전 위치에서 자르기 (가장 긴 조각이 targetLen 이하가 되도록)\n            cutCount++\n            if (cutCount > C) return false // 자르기 횟수 초과\n            \n            curPos = location[i - 1] // 자른 위치로 이동\n            i-- // 현재 위치를 다시 확인 (새로운 조각 시작점에서)\n        }\n        i++\n    }\n    \n    // 마지막 조각 (curPos부터 L까지)이 targetLen을 초과하는지 확인\n    if (L - curPos > targetLen) {\n        cutCount++ // 마지막에 한 번 더 자르기 필요\n        return cutCount <= C // 총 자르기 횟수가 허용 범위 내인지\n    }\n    \n    return true // 가장 긴 조각이 targetLen 이하로 만들 수 있음\n}\n\n/**\n * 뒤에서부터 자르는 전략으로 첫 번째 자르는 위치 찾기\n */\nfun findFirstCut(location: IntArray, targetLen: Int, L: Int, C: Int): Int {\n    var curPos = L // 끝에서부터 시작\n    var cutCount = 0\n    var firstCut = 0\n    \n    // 뒤에서부터 탐색\n    for (i in location.size - 1 downTo 0) {\n        if (curPos - location[i] > targetLen) {\n            cutCount++\n            firstCut = location[i + 1] // 마지막으로 자른 위치가 첫 번째 자르기\n            curPos = location[i + 1]\n            if (cutCount == C) break\n        }\n    }\n    \n    // 앞쪽에서 자르기가 필요한 경우\n    if (curPos > targetLen && cutCount < C) {\n        firstCut = location[0]\n    }\n    \n    return firstCut\n}",
   "outputs": [],
   "execution_count": 1
  }
 ],
 "metadata": {
  "kernelspec": {
   "display_name": "Kotlin",
   "language": "kotlin",
   "name": "kotlin"
  },
  "language_info": {
   "name": "kotlin",
   "version": "2.2.20-dev-4982",
   "mimetype": "text/x-kotlin",
   "file_extension": ".kt",
   "pygments_lexer": "kotlin",
   "codemirror_mode": "text/x-kotlin",
   "nbconvert_exporter": ""
  }
 },
 "nbformat": 4,
 "nbformat_minor": 0
}
