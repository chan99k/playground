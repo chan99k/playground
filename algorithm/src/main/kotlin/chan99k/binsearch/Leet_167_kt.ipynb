{
 "cells": [
  {
   "metadata": {},
   "cell_type": "markdown",
   "source": "# LeetCode 167. Two Sum II - Input Array Is Sorted"
  },
  {
   "metadata": {
    "collapsed": true
   },
   "cell_type": "code",
   "outputs": [],
   "execution_count": null,
   "source": [
    "import java.util.Arrays\n",
    "\n",
    "fun twoSum(numbers: IntArray, target: Int): IntArray {\n",
    "    for(i in numbers.indices){\n",
    "        val expected = target - numbers[i]\n",
    "        val idx = Arrays.binarySearch(numbers, i + 1, numbers.size, expected) // 이진 검색으로 값 찾기 - 시작 인덱스를 현재 위치 다음으로 해서 검색 범위 좁히기\n",
    "        if(idx >= 0)\n",
    "            return intArrayOf(i+1,idx+1)\n",
    "    }\n",
    "    return intArrayOf()\n",
    "}"
   ]
  }
 ],
 "metadata": {
  "kernelspec": {
   "display_name": "Kotlin",
   "language": "kotlin",
   "name": "kotlin"
  },
  "language_info": {
   "name": "kotlin",
   "version": "2.2.20-dev-4982",
   "mimetype": "text/x-kotlin",
   "file_extension": ".kt",
   "pygments_lexer": "kotlin",
   "codemirror_mode": "text/x-kotlin",
   "nbconvert_exporter": ""
  }
 },
 "nbformat": 4,
 "nbformat_minor": 0
}
